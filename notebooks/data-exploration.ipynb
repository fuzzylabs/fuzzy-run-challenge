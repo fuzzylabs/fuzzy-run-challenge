{
 "cells": [
  {
   "cell_type": "markdown",
   "metadata": {},
   "source": [
    "# Fuzzy Run Challenge"
   ]
  },
  {
   "cell_type": "code",
   "execution_count": 1,
   "metadata": {},
   "outputs": [],
   "source": [
    "import pandas as pd\n",
    "import seaborn as sns\n",
    "import numpy as np\n",
    "import scipy as sp\n",
    "import matplotlib.pyplot as plt\n",
    "from sklearn.decomposition import PCA\n",
    "from scipy.signal import find_peaks"
   ]
  },
  {
   "cell_type": "markdown",
   "metadata": {},
   "source": [
    "## Load data"
   ]
  },
  {
   "cell_type": "code",
   "execution_count": 2,
   "metadata": {},
   "outputs": [],
   "source": [
    "dfMatt = pd.read_csv(\"../data/matt.csv\")"
   ]
  },
  {
   "cell_type": "markdown",
   "metadata": {},
   "source": [
    "## Adjust data: start time at zero, change acceleration units\n",
    "\n",
    "This is just for normalisation purposes"
   ]
  },
  {
   "cell_type": "code",
   "execution_count": 4,
   "metadata": {},
   "outputs": [],
   "source": [
    "dfMatt.time = dfMatt.time - dfMatt.time.min()\n",
    "dfMatt.loc[:,[\"aX\", \"aY\", \"aZ\"]] = dfMatt.loc[:,[\"aX\", \"aY\", \"aZ\"]] * 9.8"
   ]
  },
  {
   "cell_type": "code",
   "execution_count": 5,
   "metadata": {},
   "outputs": [
    {
     "data": {
      "text/html": [
       "<div>\n",
       "<style scoped>\n",
       "    .dataframe tbody tr th:only-of-type {\n",
       "        vertical-align: middle;\n",
       "    }\n",
       "\n",
       "    .dataframe tbody tr th {\n",
       "        vertical-align: top;\n",
       "    }\n",
       "\n",
       "    .dataframe thead th {\n",
       "        text-align: right;\n",
       "    }\n",
       "</style>\n",
       "<table border=\"1\" class=\"dataframe\">\n",
       "  <thead>\n",
       "    <tr style=\"text-align: right;\">\n",
       "      <th></th>\n",
       "      <th>time</th>\n",
       "      <th>aX</th>\n",
       "      <th>aY</th>\n",
       "      <th>aZ</th>\n",
       "      <th>gX</th>\n",
       "      <th>gY</th>\n",
       "      <th>gZ</th>\n",
       "    </tr>\n",
       "  </thead>\n",
       "  <tbody>\n",
       "    <tr>\n",
       "      <th>0</th>\n",
       "      <td>0</td>\n",
       "      <td>7.493555</td>\n",
       "      <td>0.421094</td>\n",
       "      <td>6.378613</td>\n",
       "      <td>0.183105</td>\n",
       "      <td>-3.479004</td>\n",
       "      <td>-2.563477</td>\n",
       "    </tr>\n",
       "    <tr>\n",
       "      <th>1</th>\n",
       "      <td>10</td>\n",
       "      <td>7.723242</td>\n",
       "      <td>0.406738</td>\n",
       "      <td>6.507813</td>\n",
       "      <td>0.061035</td>\n",
       "      <td>-3.601074</td>\n",
       "      <td>-2.441406</td>\n",
       "    </tr>\n",
       "    <tr>\n",
       "      <th>2</th>\n",
       "      <td>20</td>\n",
       "      <td>7.560547</td>\n",
       "      <td>0.277539</td>\n",
       "      <td>6.316406</td>\n",
       "      <td>0.122070</td>\n",
       "      <td>-3.540039</td>\n",
       "      <td>-2.563477</td>\n",
       "    </tr>\n",
       "    <tr>\n",
       "      <th>3</th>\n",
       "      <td>30</td>\n",
       "      <td>7.469629</td>\n",
       "      <td>0.416309</td>\n",
       "      <td>6.340332</td>\n",
       "      <td>0.427246</td>\n",
       "      <td>-3.356934</td>\n",
       "      <td>-2.624512</td>\n",
       "    </tr>\n",
       "    <tr>\n",
       "      <th>4</th>\n",
       "      <td>40</td>\n",
       "      <td>7.436133</td>\n",
       "      <td>0.397168</td>\n",
       "      <td>6.388184</td>\n",
       "      <td>0.488281</td>\n",
       "      <td>-3.295898</td>\n",
       "      <td>-2.685547</td>\n",
       "    </tr>\n",
       "    <tr>\n",
       "      <th>...</th>\n",
       "      <td>...</td>\n",
       "      <td>...</td>\n",
       "      <td>...</td>\n",
       "      <td>...</td>\n",
       "      <td>...</td>\n",
       "      <td>...</td>\n",
       "      <td>...</td>\n",
       "    </tr>\n",
       "    <tr>\n",
       "      <th>14400</th>\n",
       "      <td>144000</td>\n",
       "      <td>5.670410</td>\n",
       "      <td>-0.248828</td>\n",
       "      <td>7.967285</td>\n",
       "      <td>0.183105</td>\n",
       "      <td>-3.479004</td>\n",
       "      <td>-2.685547</td>\n",
       "    </tr>\n",
       "    <tr>\n",
       "      <th>14401</th>\n",
       "      <td>144010</td>\n",
       "      <td>5.675195</td>\n",
       "      <td>-0.244043</td>\n",
       "      <td>7.991211</td>\n",
       "      <td>0.244141</td>\n",
       "      <td>-3.417969</td>\n",
       "      <td>-2.624512</td>\n",
       "    </tr>\n",
       "    <tr>\n",
       "      <th>14402</th>\n",
       "      <td>144020</td>\n",
       "      <td>5.608203</td>\n",
       "      <td>-0.267969</td>\n",
       "      <td>7.986426</td>\n",
       "      <td>0.183105</td>\n",
       "      <td>-3.295898</td>\n",
       "      <td>-2.685547</td>\n",
       "    </tr>\n",
       "    <tr>\n",
       "      <th>14403</th>\n",
       "      <td>144030</td>\n",
       "      <td>5.589063</td>\n",
       "      <td>-0.229688</td>\n",
       "      <td>7.976855</td>\n",
       "      <td>0.244141</td>\n",
       "      <td>-3.356934</td>\n",
       "      <td>-2.746582</td>\n",
       "    </tr>\n",
       "    <tr>\n",
       "      <th>14404</th>\n",
       "      <td>144040</td>\n",
       "      <td>5.627344</td>\n",
       "      <td>-0.248828</td>\n",
       "      <td>8.000781</td>\n",
       "      <td>0.305176</td>\n",
       "      <td>-3.356934</td>\n",
       "      <td>-2.868652</td>\n",
       "    </tr>\n",
       "  </tbody>\n",
       "</table>\n",
       "<p>14405 rows × 7 columns</p>\n",
       "</div>"
      ],
      "text/plain": [
       "         time        aX        aY        aZ        gX        gY        gZ\n",
       "0           0  7.493555  0.421094  6.378613  0.183105 -3.479004 -2.563477\n",
       "1          10  7.723242  0.406738  6.507813  0.061035 -3.601074 -2.441406\n",
       "2          20  7.560547  0.277539  6.316406  0.122070 -3.540039 -2.563477\n",
       "3          30  7.469629  0.416309  6.340332  0.427246 -3.356934 -2.624512\n",
       "4          40  7.436133  0.397168  6.388184  0.488281 -3.295898 -2.685547\n",
       "...       ...       ...       ...       ...       ...       ...       ...\n",
       "14400  144000  5.670410 -0.248828  7.967285  0.183105 -3.479004 -2.685547\n",
       "14401  144010  5.675195 -0.244043  7.991211  0.244141 -3.417969 -2.624512\n",
       "14402  144020  5.608203 -0.267969  7.986426  0.183105 -3.295898 -2.685547\n",
       "14403  144030  5.589063 -0.229688  7.976855  0.244141 -3.356934 -2.746582\n",
       "14404  144040  5.627344 -0.248828  8.000781  0.305176 -3.356934 -2.868652\n",
       "\n",
       "[14405 rows x 7 columns]"
      ]
     },
     "execution_count": 5,
     "metadata": {},
     "output_type": "execute_result"
    }
   ],
   "source": [
    "dfMatt"
   ]
  },
  {
   "cell_type": "markdown",
   "metadata": {},
   "source": [
    "## Plot acceleration time series\n",
    "\n",
    "Each component"
   ]
  },
  {
   "cell_type": "code",
   "execution_count": 6,
   "metadata": {},
   "outputs": [
    {
     "data": {
      "text/plain": [
       "<AxesSubplot:>"
      ]
     },
     "execution_count": 6,
     "metadata": {},
     "output_type": "execute_result"
    },
    {
     "data": {
      "image/png": "[encoded data removed]",
      "text/plain": [
       "<Figure size 432x288 with 1 Axes>"
      ]
     },
     "metadata": {
      "needs_background": "light"
     },
     "output_type": "display_data"
    }
   ],
   "source": [
    "dfMatt.loc[:, [\"aX\", \"aY\", \"aZ\"]].plot()"
   ]
  },
  {
   "cell_type": "markdown",
   "metadata": {},
   "source": [
    "## Plot velocity using integration - note how it grows, and grows..."
   ]
  },
  {
   "cell_type": "code",
   "execution_count": 7,
   "metadata": {},
   "outputs": [
    {
     "data": {
      "text/plain": [
       "[<matplotlib.lines.Line2D at 0x7fc98c6f9978>]"
      ]
     },
     "execution_count": 7,
     "metadata": {},
     "output_type": "execute_result"
    },
    {
     "data": {
      "image/png": "[encoded data removed]",
      "text/plain": [
       "<Figure size 432x288 with 1 Axes>"
      ]
     },
     "metadata": {
      "needs_background": "light"
     },
     "output_type": "display_data"
    }
   ],
   "source": [
    "v = sp.integrate.cumtrapz(dfMatt.aX, x=dfMatt.time / 1000)\n",
    "plt.plot(v)"
   ]
  },
  {
   "cell_type": "markdown",
   "metadata": {},
   "source": [
    "# PCA approach\n",
    "\n",
    "So we'll need to massage this data a bit more. First, PCA\n",
    "\n",
    "Principle component analysis: the first axis of PCA is the 'major axis', in our case that should be acceleration projected into the direction of motion.\n",
    "\n",
    "We'll add PCA values to the same data frame that we're already using"
   ]
  },
  {
   "cell_type": "code",
   "execution_count": 11,
   "metadata": {},
   "outputs": [
    {
     "data": {
      "text/plain": [
       "<AxesSubplot:>"
      ]
     },
     "execution_count": 11,
     "metadata": {},
     "output_type": "execute_result"
    },
    {
     "data": {
      "image/png": "[encoded data removed]",
      "text/plain": [
       "<Figure size 432x288 with 1 Axes>"
      ]
     },
     "metadata": {
      "needs_background": "light"
     },
     "output_type": "display_data"
    }
   ],
   "source": [
    "dfMatt.loc[:,[\"pca0\", \"pca1\", \"pca2\"]] = PCA().fit_transform(dfMatt.loc[:,[\"aX\", \"aY\", \"aZ\"]].values)\n",
    "dfMatt.loc[:, [\"pca0\"]].plot()"
   ]
  },
  {
   "cell_type": "code",
   "execution_count": 12,
   "metadata": {},
   "outputs": [
    {
     "data": {
      "text/html": [
       "<div>\n",
       "<style scoped>\n",
       "    .dataframe tbody tr th:only-of-type {\n",
       "        vertical-align: middle;\n",
       "    }\n",
       "\n",
       "    .dataframe tbody tr th {\n",
       "        vertical-align: top;\n",
       "    }\n",
       "\n",
       "    .dataframe thead th {\n",
       "        text-align: right;\n",
       "    }\n",
       "</style>\n",
       "<table border=\"1\" class=\"dataframe\">\n",
       "  <thead>\n",
       "    <tr style=\"text-align: right;\">\n",
       "      <th></th>\n",
       "      <th>time</th>\n",
       "      <th>aX</th>\n",
       "      <th>aY</th>\n",
       "      <th>aZ</th>\n",
       "      <th>gX</th>\n",
       "      <th>gY</th>\n",
       "      <th>gZ</th>\n",
       "      <th>pca0</th>\n",
       "      <th>pca1</th>\n",
       "      <th>pca2</th>\n",
       "    </tr>\n",
       "  </thead>\n",
       "  <tbody>\n",
       "    <tr>\n",
       "      <th>0</th>\n",
       "      <td>0</td>\n",
       "      <td>7.493555</td>\n",
       "      <td>0.421094</td>\n",
       "      <td>6.378613</td>\n",
       "      <td>0.183105</td>\n",
       "      <td>-3.479004</td>\n",
       "      <td>-2.563477</td>\n",
       "      <td>-2.188041</td>\n",
       "      <td>-4.346282</td>\n",
       "      <td>-2.349743</td>\n",
       "    </tr>\n",
       "    <tr>\n",
       "      <th>1</th>\n",
       "      <td>10</td>\n",
       "      <td>7.723242</td>\n",
       "      <td>0.406738</td>\n",
       "      <td>6.507813</td>\n",
       "      <td>0.061035</td>\n",
       "      <td>-3.601074</td>\n",
       "      <td>-2.441406</td>\n",
       "      <td>-1.988285</td>\n",
       "      <td>-4.182270</td>\n",
       "      <td>-2.296333</td>\n",
       "    </tr>\n",
       "    <tr>\n",
       "      <th>2</th>\n",
       "      <td>20</td>\n",
       "      <td>7.560547</td>\n",
       "      <td>0.277539</td>\n",
       "      <td>6.316406</td>\n",
       "      <td>0.122070</td>\n",
       "      <td>-3.540039</td>\n",
       "      <td>-2.563477</td>\n",
       "      <td>-2.128624</td>\n",
       "      <td>-4.409017</td>\n",
       "      <td>-2.203115</td>\n",
       "    </tr>\n",
       "    <tr>\n",
       "      <th>3</th>\n",
       "      <td>30</td>\n",
       "      <td>7.469629</td>\n",
       "      <td>0.416309</td>\n",
       "      <td>6.340332</td>\n",
       "      <td>0.427246</td>\n",
       "      <td>-3.356934</td>\n",
       "      <td>-2.624512</td>\n",
       "      <td>-2.205191</td>\n",
       "      <td>-4.388301</td>\n",
       "      <td>-2.350777</td>\n",
       "    </tr>\n",
       "    <tr>\n",
       "      <th>4</th>\n",
       "      <td>40</td>\n",
       "      <td>7.436133</td>\n",
       "      <td>0.397168</td>\n",
       "      <td>6.388184</td>\n",
       "      <td>0.488281</td>\n",
       "      <td>-3.295898</td>\n",
       "      <td>-2.685547</td>\n",
       "      <td>-2.248680</td>\n",
       "      <td>-4.348645</td>\n",
       "      <td>-2.333052</td>\n",
       "    </tr>\n",
       "    <tr>\n",
       "      <th>...</th>\n",
       "      <td>...</td>\n",
       "      <td>...</td>\n",
       "      <td>...</td>\n",
       "      <td>...</td>\n",
       "      <td>...</td>\n",
       "      <td>...</td>\n",
       "      <td>...</td>\n",
       "      <td>...</td>\n",
       "      <td>...</td>\n",
       "      <td>...</td>\n",
       "    </tr>\n",
       "    <tr>\n",
       "      <th>14400</th>\n",
       "      <td>144000</td>\n",
       "      <td>5.670410</td>\n",
       "      <td>-0.248828</td>\n",
       "      <td>7.967285</td>\n",
       "      <td>0.183105</td>\n",
       "      <td>-3.479004</td>\n",
       "      <td>-2.685547</td>\n",
       "      <td>-4.330654</td>\n",
       "      <td>-3.151818</td>\n",
       "      <td>-1.821546</td>\n",
       "    </tr>\n",
       "    <tr>\n",
       "      <th>14401</th>\n",
       "      <td>144010</td>\n",
       "      <td>5.675195</td>\n",
       "      <td>-0.244043</td>\n",
       "      <td>7.991211</td>\n",
       "      <td>0.244141</td>\n",
       "      <td>-3.417969</td>\n",
       "      <td>-2.624512</td>\n",
       "      <td>-4.329656</td>\n",
       "      <td>-3.127097</td>\n",
       "      <td>-1.824023</td>\n",
       "    </tr>\n",
       "    <tr>\n",
       "      <th>14402</th>\n",
       "      <td>144020</td>\n",
       "      <td>5.608203</td>\n",
       "      <td>-0.267969</td>\n",
       "      <td>7.986426</td>\n",
       "      <td>0.183105</td>\n",
       "      <td>-3.295898</td>\n",
       "      <td>-2.685547</td>\n",
       "      <td>-4.397098</td>\n",
       "      <td>-3.145156</td>\n",
       "      <td>-1.809574</td>\n",
       "    </tr>\n",
       "    <tr>\n",
       "      <th>14403</th>\n",
       "      <td>144030</td>\n",
       "      <td>5.589063</td>\n",
       "      <td>-0.229688</td>\n",
       "      <td>7.976855</td>\n",
       "      <td>0.244141</td>\n",
       "      <td>-3.356934</td>\n",
       "      <td>-2.746582</td>\n",
       "      <td>-4.409547</td>\n",
       "      <td>-3.154323</td>\n",
       "      <td>-1.850615</td>\n",
       "    </tr>\n",
       "    <tr>\n",
       "      <th>14404</th>\n",
       "      <td>144040</td>\n",
       "      <td>5.627344</td>\n",
       "      <td>-0.248828</td>\n",
       "      <td>8.000781</td>\n",
       "      <td>0.305176</td>\n",
       "      <td>-3.356934</td>\n",
       "      <td>-2.868652</td>\n",
       "      <td>-4.378670</td>\n",
       "      <td>-3.126141</td>\n",
       "      <td>-1.824990</td>\n",
       "    </tr>\n",
       "  </tbody>\n",
       "</table>\n",
       "<p>14405 rows × 10 columns</p>\n",
       "</div>"
      ],
      "text/plain": [
       "         time        aX        aY        aZ        gX        gY        gZ  \\\n",
       "0           0  7.493555  0.421094  6.378613  0.183105 -3.479004 -2.563477   \n",
       "1          10  7.723242  0.406738  6.507813  0.061035 -3.601074 -2.441406   \n",
       "2          20  7.560547  0.277539  6.316406  0.122070 -3.540039 -2.563477   \n",
       "3          30  7.469629  0.416309  6.340332  0.427246 -3.356934 -2.624512   \n",
       "4          40  7.436133  0.397168  6.388184  0.488281 -3.295898 -2.685547   \n",
       "...       ...       ...       ...       ...       ...       ...       ...   \n",
       "14400  144000  5.670410 -0.248828  7.967285  0.183105 -3.479004 -2.685547   \n",
       "14401  144010  5.675195 -0.244043  7.991211  0.244141 -3.417969 -2.624512   \n",
       "14402  144020  5.608203 -0.267969  7.986426  0.183105 -3.295898 -2.685547   \n",
       "14403  144030  5.589063 -0.229688  7.976855  0.244141 -3.356934 -2.746582   \n",
       "14404  144040  5.627344 -0.248828  8.000781  0.305176 -3.356934 -2.868652   \n",
       "\n",
       "           pca0      pca1      pca2  \n",
       "0     -2.188041 -4.346282 -2.349743  \n",
       "1     -1.988285 -4.182270 -2.296333  \n",
       "2     -2.128624 -4.409017 -2.203115  \n",
       "3     -2.205191 -4.388301 -2.350777  \n",
       "4     -2.248680 -4.348645 -2.333052  \n",
       "...         ...       ...       ...  \n",
       "14400 -4.330654 -3.151818 -1.821546  \n",
       "14401 -4.329656 -3.127097 -1.824023  \n",
       "14402 -4.397098 -3.145156 -1.809574  \n",
       "14403 -4.409547 -3.154323 -1.850615  \n",
       "14404 -4.378670 -3.126141 -1.824990  \n",
       "\n",
       "[14405 rows x 10 columns]"
      ]
     },
     "execution_count": 12,
     "metadata": {},
     "output_type": "execute_result"
    }
   ],
   "source": [
    "dfMatt"
   ]
  },
  {
   "cell_type": "markdown",
   "metadata": {},
   "source": [
    "# Now let's try to count steps\n",
    "\n",
    "Step counting comes down to counting peaks in the timeseries. Note that this isn't affected strongly by the noise, unlike when we attempt to calculate velocity. So if we can *count* steps, then we can identify where they appear in the timeseries, which could be helpful."
   ]
  },
  {
   "cell_type": "code",
   "execution_count": 13,
   "metadata": {},
   "outputs": [
    {
     "data": {
      "text/plain": [
       "(140, 2)"
      ]
     },
     "execution_count": 13,
     "metadata": {},
     "output_type": "execute_result"
    }
   ],
   "source": [
    "def get_peaks(data):\n",
    "    pos_kwargs={\n",
    "        \"distance\": 20,\n",
    "        \"height\": (35, None)\n",
    "    }\n",
    "    peaks, _ = find_peaks(data, **pos_kwargs)\n",
    "    return np.hstack([[0],peaks,[len(data)-1]])\n",
    "\n",
    "def get_step_ranges(data):\n",
    "    peaks = get_peaks(data)\n",
    "    midpoints = (peaks[1:] + peaks[:-1]) / 2\n",
    "    return np.vstack([midpoints[:-1], midpoints[1:]]).T.round()\n",
    "\n",
    "steps = get_step_ranges(dfMatt.pca0)\n",
    "steps.shape"
   ]
  },
  {
   "cell_type": "markdown",
   "metadata": {},
   "source": [
    "*n.b. you should get 140 steps out of this!*"
   ]
  },
  {
   "cell_type": "markdown",
   "metadata": {},
   "source": [
    "# Looking at a single step\n",
    "\n",
    "The step is two values indicating the start and end index into the timeseries."
   ]
  },
  {
   "cell_type": "code",
   "execution_count": 14,
   "metadata": {},
   "outputs": [
    {
     "name": "stdout",
     "output_type": "stream",
     "text": [
      "[10306. 10378.]\n"
     ]
    }
   ],
   "source": [
    "step = steps[100]\n",
    "print(step)"
   ]
  },
  {
   "cell_type": "markdown",
   "metadata": {},
   "source": [
    "## Velocity-time graph over this step\n",
    "\n",
    "Integrate between the start and end of this step"
   ]
  },
  {
   "cell_type": "code",
   "execution_count": 15,
   "metadata": {},
   "outputs": [
    {
     "data": {
      "text/plain": [
       "9.543656358780677"
      ]
     },
     "metadata": {},
     "output_type": "display_data"
    },
    {
     "data": {
      "image/png": "[encoded data removed]",
      "text/plain": [
       "<Figure size 432x288 with 1 Axes>"
      ]
     },
     "metadata": {
      "needs_background": "light"
     },
     "output_type": "display_data"
    }
   ],
   "source": [
    "a, b = step.astype(int)\n",
    "ms_to_kmh = 3.6 # we'll convert from metres per second to kilometres per hour\n",
    "\n",
    "velocity = sp.integrate.cumtrapz(dfMatt.pca0.iloc[a:b], x=dfMatt.time.iloc[a:b] / 1000) * ms_to_kmh\n",
    "\n",
    "# Let's find the maximum\n",
    "display(pd.Series(velocity).abs().max())\n",
    "\n",
    "# Plot the series\n",
    "dfMatt.pca0.iloc[a:b].plot()\n",
    "plt.show()"
   ]
  },
  {
   "cell_type": "code",
   "execution_count": null,
   "metadata": {},
   "outputs": [],
   "source": []
  }
 ],
 "metadata": {
  "kernelspec": {
   "display_name": "Python 3",
   "language": "python",
   "name": "python3"
  },
  "language_info": {
   "codemirror_mode": {
    "name": "ipython",
    "version": 3
   },
   "file_extension": ".py",
   "mimetype": "text/x-python",
   "name": "python",
   "nbconvert_exporter": "python",
   "pygments_lexer": "ipython3",
   "version": "3.7.3"
  }
 },
 "nbformat": 4,
 "nbformat_minor": 4
}
